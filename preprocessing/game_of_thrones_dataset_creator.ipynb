{
 "cells": [
  {
   "cell_type": "code",
   "execution_count": 5,
   "metadata": {
    "collapsed": true
   },
   "outputs": [],
   "source": [
    "import re"
   ]
  },
  {
   "cell_type": "code",
   "execution_count": null,
   "metadata": {
    "collapsed": true
   },
   "outputs": [],
   "source": [
    "subtitles_path =\"../data/game_of_thrones/subtitles/\""
   ]
  },
  {
   "cell_type": "code",
   "execution_count": null,
   "metadata": {
    "collapsed": true
   },
   "outputs": [],
   "source": [
    "def read_subtitles(subtitles_path):\n",
    "    \n",
    "    allfiles = [f for f in listdir(subtitles_path) if isfile(join(subtitles_path, f))]\n",
    "    data = []\n",
    "    for sub_file in allfiles:\n",
    "        lines = [line.rstrip('\\n') for line in open(join(subtitles_path, sub_file))]\n",
    "        local_data = []\n",
    "        for line in lines:\n",
    "            local_data.append(re.findall(r'\\S+', line))\n",
    "        data.extend(local_data)\n",
    "    return data"
   ]
  },
  {
   "cell_type": "code",
   "execution_count": 16,
   "metadata": {
    "collapsed": false
   },
   "outputs": [],
   "source": [
    "sentences = read_subtitles(subtitles_path)"
   ]
  },
  {
   "cell_type": "code",
   "execution_count": 17,
   "metadata": {
    "collapsed": true
   },
   "outputs": [],
   "source": [
    "sentences_new = []\n",
    "for s in sentences:\n",
    "    v = \" \".join(s)\n",
    "    sentences_new.append(v)"
   ]
  },
  {
   "cell_type": "code",
   "execution_count": 18,
   "metadata": {
    "collapsed": false
   },
   "outputs": [
    {
     "name": "stdout",
     "output_type": "stream",
     "text": [
      "184468\n"
     ]
    }
   ],
   "source": [
    "print len(sentences_new)"
   ]
  },
  {
   "cell_type": "code",
   "execution_count": 21,
   "metadata": {
    "collapsed": false
   },
   "outputs": [
    {
     "name": "stdout",
     "output_type": "stream",
     "text": [
      "143201\n"
     ]
    }
   ],
   "source": [
    "clean_sentences=[]\n",
    "for sentence in sentences_new:\n",
    "    if not \"00:\" in sentence and not len(sentence)==1:\n",
    "        clean_sentences.append(sentence)\n",
    "print len(clean_sentences)"
   ]
  },
  {
   "cell_type": "code",
   "execution_count": 47,
   "metadata": {
    "collapsed": false
   },
   "outputs": [
    {
     "name": "stdout",
     "output_type": "stream",
     "text": [
      "60662\n"
     ]
    }
   ],
   "source": [
    "sentences_new = clean_sentences\n",
    "clean_sentences=[]\n",
    "for sentence in sentences_new:\n",
    "    if not \"Original Air\" in sentence:\n",
    "        #print sentence\n",
    "        clean_sentences.append(sentence)\n",
    "print len(clean_sentences)"
   ]
  },
  {
   "cell_type": "code",
   "execution_count": 49,
   "metadata": {
    "collapsed": false
   },
   "outputs": [],
   "source": [
    "file = open(\"Game_of_thones.txt\",\"wb\")\n",
    "for sentence in clean_sentences:\n",
    "    file.write(sentence)\n",
    "    #file.write(\"\\n\")\n",
    "file.close()"
   ]
  },
  {
   "cell_type": "code",
   "execution_count": 31,
   "metadata": {
    "collapsed": false
   },
   "outputs": [],
   "source": [
    "file = open(\"Game_of_thones.txt\",\"r\")\n",
    "ss = []\n",
    "for i in range(len(clean_sentences)):\n",
    "    s = file.readline()\n",
    "    ss.append(s)\n",
    "file.close()"
   ]
  }
 ],
 "metadata": {
  "anaconda-cloud": {},
  "kernelspec": {
   "display_name": "Python [default]",
   "language": "python",
   "name": "python2"
  },
  "language_info": {
   "codemirror_mode": {
    "name": "ipython",
    "version": 2
   },
   "file_extension": ".py",
   "mimetype": "text/x-python",
   "name": "python",
   "nbconvert_exporter": "python",
   "pygments_lexer": "ipython2",
   "version": "2.7.12"
  }
 },
 "nbformat": 4,
 "nbformat_minor": 1
}
