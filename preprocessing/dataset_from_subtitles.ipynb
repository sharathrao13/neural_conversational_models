{
 "cells": [
  {
   "cell_type": "code",
   "execution_count": 1,
   "metadata": {
    "collapsed": true
   },
   "outputs": [],
   "source": [
    "import re\n",
    "from os import listdir\n",
    "from os.path import isfile, join"
   ]
  },
  {
   "cell_type": "code",
   "execution_count": 2,
   "metadata": {
    "collapsed": true
   },
   "outputs": [],
   "source": [
    "subtitles_path =\"../data/subtitles/\""
   ]
  },
  {
   "cell_type": "code",
   "execution_count": 7,
   "metadata": {
    "collapsed": true
   },
   "outputs": [],
   "source": [
    "def read_subtitles(subtitles_path):\n",
    "    \n",
    "    allfiles = [f for f in listdir(subtitles_path) if isfile(join(subtitles_path, f))]\n",
    "    data = []\n",
    "    for sub_file in allfiles:\n",
    "        lines = [line.rstrip('\\n') for line in open(join(subtitles_path, sub_file))]\n",
    "        local_data = []\n",
    "        for line in lines:\n",
    "            local_data.append(re.findall(r'\\S+', line))\n",
    "        data.extend(local_data)\n",
    "    return data"
   ]
  },
  {
   "cell_type": "code",
   "execution_count": 8,
   "metadata": {
    "collapsed": false
   },
   "outputs": [],
   "source": [
    "sentences = read_subtitles(subtitles_path)"
   ]
  },
  {
   "cell_type": "code",
   "execution_count": 9,
   "metadata": {
    "collapsed": true
   },
   "outputs": [],
   "source": [
    "sentences_new = []\n",
    "for s in sentences:\n",
    "    v = \" \".join(s)\n",
    "    sentences_new.append(v)"
   ]
  },
  {
   "cell_type": "code",
   "execution_count": null,
   "metadata": {
    "collapsed": true
   },
   "outputs": [],
   "source": [
    "clean_sentences=[]\n",
    "for sentence in sentences_new:\n",
    "    if not \"00:\" in sentence and not len(sentence)==1:\n",
    "        clean_sentences.append(sentence)\n",
    "print len(clean_sentences)"
   ]
  },
  {
   "cell_type": "markdown",
   "metadata": {},
   "source": [
    "### Use the below two blocks to clean the dataset over and over again based on the which words you would like to filter out."
   ]
  },
  {
   "cell_type": "code",
   "execution_count": null,
   "metadata": {
    "collapsed": true
   },
   "outputs": [],
   "source": [
    "sentences_new = clean_sentences\n",
    "clean_sentences=[]\n",
    "for sentence in sentences_new:\n",
    "    if not \"Original Air\" in sentence:\n",
    "        #print sentence\n",
    "        clean_sentences.append(sentence)\n",
    "print len(clean_sentences)"
   ]
  },
  {
   "cell_type": "code",
   "execution_count": 10,
   "metadata": {
    "collapsed": true
   },
   "outputs": [],
   "source": [
    "file = open(\"../data/Movie_Dataset\",\"wb\")\n",
    "for sentence in sentences_new:\n",
    "    file.write(sentence)\n",
    "    #file.write(\"\\n\")\n",
    "file.close()"
   ]
  },
  {
   "cell_type": "code",
   "execution_count": null,
   "metadata": {
    "collapsed": true
   },
   "outputs": [],
   "source": []
  },
  {
   "cell_type": "code",
   "execution_count": null,
   "metadata": {
    "collapsed": true
   },
   "outputs": [],
   "source": []
  }
 ],
 "metadata": {
  "anaconda-cloud": {},
  "kernelspec": {
   "display_name": "Python [default]",
   "language": "python",
   "name": "python2"
  },
  "language_info": {
   "codemirror_mode": {
    "name": "ipython",
    "version": 2
   },
   "file_extension": ".py",
   "mimetype": "text/x-python",
   "name": "python",
   "nbconvert_exporter": "python",
   "pygments_lexer": "ipython2",
   "version": "2.7.12"
  }
 },
 "nbformat": 4,
 "nbformat_minor": 1
}
